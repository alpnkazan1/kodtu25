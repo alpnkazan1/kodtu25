{
 "cells": [
  {
   "cell_type": "code",
   "execution_count": null,
   "metadata": {},
   "outputs": [],
   "source": [
    "from itertools import combinations\n",
    "\n",
    "def addCombinations(arr):\n",
    "    result = []\n",
    "    \n",
    "    # Generate all combinations of two distinct indices\n",
    "    for i, j in combinations(range(len(arr)), 2):\n",
    "        # Create a new array where arr[i] and arr[j] are replaced by their sum\n",
    "        new_array = arr[:i] + [arr[i] + arr[j]] + arr[i+1:j] + arr[j+1:]\n",
    "        result.append(new_array)\n",
    "    \n",
    "    return result\n",
    "\n",
    "def subCombinations(arr):\n",
    "    result = []\n",
    "    \n",
    "    # Generate all combinations of two distinct indices\n",
    "    for i, j in combinations(range(len(arr)), 2):\n",
    "        # Ensure the subtraction results in a positive integer\n",
    "        if arr[i] < arr[j]:\n",
    "            new_array = arr[:i] + [arr[j] - arr[i]] + arr[i+1:j] + arr[j+1:]\n",
    "            result.append(new_array)\n",
    "        else:\n",
    "            print(\"error\" + arr[i] + \" \" + arr[j])\n",
    "    \n",
    "    return result"
   ]
  },
  {
   "cell_type": "code",
   "execution_count": 21,
   "metadata": {},
   "outputs": [],
   "source": [
    "arr = [1,2,4,7,8,12]\n",
    "#addCombinations(arr)"
   ]
  },
  {
   "cell_type": "code",
   "execution_count": null,
   "metadata": {},
   "outputs": [],
   "source": [
    "res = subCombinations(arr)\n",
    "print(res)"
   ]
  },
  {
   "cell_type": "code",
   "execution_count": 25,
   "metadata": {},
   "outputs": [],
   "source": [
    "def smallest_unreachable_sum(arr):\n",
    "    \n",
    "    # Initialize the candidate to 1 (the smallest positive integer we cannot form initially)\n",
    "    candidate = 1\n",
    "    \n",
    "    # Iterate through the sorted array\n",
    "    for num in arr:\n",
    "        # If the current number is greater than the candidate, return the candidate\n",
    "        if num > candidate:\n",
    "            return candidate\n",
    "        # Otherwise, we can extend the range of numbers we can form\n",
    "        candidate += num\n",
    "    \n",
    "    # If we go through the entire array, the answer will be candidate\n",
    "    return candidate\n",
    "\n",
    "def rearrange_with_negatives(arr):\n",
    "    # Step 1: Sort the array\n",
    "    arr.sort()\n",
    "    \n",
    "    # Step 2: Create a list of the negatives and reverse their order\n",
    "    negatives = [-x for x in arr]\n",
    "    \n",
    "    # Step 3: Reverse the negatives list\n",
    "    negatives.reverse()\n",
    "    \n",
    "    # Step 4: Concatenate the reversed negatives with the sorted array\n",
    "    result = negatives + arr\n",
    "    \n",
    "    return result\n"
   ]
  },
  {
   "cell_type": "code",
   "execution_count": 28,
   "metadata": {},
   "outputs": [
    {
     "name": "stdout",
     "output_type": "stream",
     "text": [
      "[-13, -4, -3, -2, -1, 1, 2, 3, 4, 13]\n"
     ]
    }
   ],
   "source": [
    "arr = [4, 13, 2, 1, 3]\n",
    "arr_1 = rearrange_with_negatives(arr)\n",
    "print(arr_1)\n",
    "#print(smallest_unreachable_sum(arr_1))"
   ]
  },
  {
   "cell_type": "code",
   "execution_count": null,
   "metadata": {},
   "outputs": [],
   "source": [
    "def q2():\n",
    "    n = int(input())\n",
    "    w = list(map(int, input().split()))\n",
    "\n",
    "    possible_values = set()\n",
    "    \n",
    "    def generate_weights(index, current_weight):\n",
    "        if index == n:\n",
    "            if current_weight > 0:\n",
    "                possible_values.add(current_weight)\n",
    "            return\n",
    "        \n",
    "        generate_weights(index + 1, current_weight)\n",
    "        \n",
    "        generate_weights(index + 1, current_weight + w[index])\n",
    "        \n",
    "        generate_weights(index + 1, current_weight - w[index])\n",
    "\n",
    "    generate_weights(0, 0)\n",
    "    \n",
    "    possible_values = sorted(list(possible_values))\n",
    "    \n",
    "    if not possible_values:\n",
    "        return 1\n",
    "    \n",
    "    if possible_values[0] != 1:\n",
    "        return 1\n",
    "    \n",
    "    for i in range(len(possible_values) - 1):\n",
    "        if possible_values[i+1] - possible_values[i] > 1:\n",
    "            return possible_values[i] + 1\n",
    "            \n",
    "    return possible_values[-1] + 1"
   ]
  },
  {
   "cell_type": "code",
   "execution_count": 36,
   "metadata": {},
   "outputs": [
    {
     "data": {
      "text/plain": [
       "24"
      ]
     },
     "execution_count": 36,
     "metadata": {},
     "output_type": "execute_result"
    }
   ],
   "source": [
    "q2(len(arr),arr)"
   ]
  },
  {
   "cell_type": "code",
   "execution_count": 37,
   "metadata": {},
   "outputs": [],
   "source": [
    "def solve():\n",
    "    a, c = map(int, input().split())\n",
    "    \n",
    "    for b in range(a, 10001):\n",
    "        remainder = 0\n",
    "        for i in range(a, b + 1):\n",
    "            s = str(i)\n",
    "            for digit in s:\n",
    "                remainder = (remainder * 10 + int(digit)) % c\n",
    "                \n",
    "        if remainder == 0:\n",
    "            print(b)\n",
    "            return\n",
    "    print(\"-1\")"
   ]
  },
  {
   "cell_type": "code",
   "execution_count": 38,
   "metadata": {},
   "outputs": [
    {
     "name": "stdout",
     "output_type": "stream",
     "text": [
      "13\n"
     ]
    }
   ],
   "source": [
    "solve()"
   ]
  },
  {
   "cell_type": "code",
   "execution_count": 39,
   "metadata": {},
   "outputs": [],
   "source": [
    "def smallest_non_divisor(n):\n",
    "    if n == 1:\n",
    "        return 2\n",
    "    for i in range(2, n + 2): #Check up to n+1 to be absolutely sure\n",
    "        if n % i != 0:\n",
    "            return i"
   ]
  },
  {
   "cell_type": "code",
   "execution_count": 41,
   "metadata": {},
   "outputs": [
    {
     "data": {
      "text/plain": [
       "2"
      ]
     },
     "execution_count": 41,
     "metadata": {},
     "output_type": "execute_result"
    }
   ],
   "source": [
    "smallest_non_divisor(9999)"
   ]
  },
  {
   "cell_type": "code",
   "execution_count": 42,
   "metadata": {},
   "outputs": [
    {
     "data": {
      "text/plain": [
       "166651666.66666666"
      ]
     },
     "execution_count": 42,
     "metadata": {},
     "output_type": "execute_result"
    }
   ],
   "source": [
    "999910000/6"
   ]
  },
  {
   "cell_type": "code",
   "execution_count": null,
   "metadata": {},
   "outputs": [],
   "source": []
  }
 ],
 "metadata": {
  "kernelspec": {
   "display_name": "usr",
   "language": "python",
   "name": "python3"
  },
  "language_info": {
   "codemirror_mode": {
    "name": "ipython",
    "version": 3
   },
   "file_extension": ".py",
   "mimetype": "text/x-python",
   "name": "python",
   "nbconvert_exporter": "python",
   "pygments_lexer": "ipython3",
   "version": "3.12.3"
  }
 },
 "nbformat": 4,
 "nbformat_minor": 2
}
